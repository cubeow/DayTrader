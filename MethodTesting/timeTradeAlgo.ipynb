{
 "cells": [
  {
   "cell_type": "code",
   "execution_count": 8,
   "metadata": {},
   "outputs": [
    {
     "data": {
      "application/vnd.microsoft.datawrangler.viewer.v0+json": {
       "columns": [
        {
         "name": "date",
         "rawType": "object",
         "type": "unknown"
        },
        {
         "name": "timestamp",
         "rawType": "object",
         "type": "string"
        },
        {
         "name": "open",
         "rawType": "float64",
         "type": "float"
        },
        {
         "name": "high",
         "rawType": "float64",
         "type": "float"
        },
        {
         "name": "low",
         "rawType": "float64",
         "type": "float"
        },
        {
         "name": "close",
         "rawType": "float64",
         "type": "float"
        },
        {
         "name": "volume",
         "rawType": "int64",
         "type": "integer"
        }
       ],
       "conversionMethod": "pd.DataFrame",
       "ref": "0aaf9629-caa3-4c59-aad3-e041ceb31746",
       "rows": [
        [
         "2022-09-30",
         "2022-09-30 04:00:00",
         "143.59",
         "143.59",
         "143.1",
         "143.49",
         "4060"
        ],
        [
         "2022-10-03",
         "2022-10-03 04:01:00",
         "137.21",
         "137.21",
         "137.1",
         "137.1",
         "2585"
        ],
        [
         "2022-10-04",
         "2022-10-04 04:00:00",
         "144.02",
         "145.27",
         "144.02",
         "144.71",
         "4179"
        ],
        [
         "2022-10-05",
         "2022-10-05 04:00:00",
         "145.44",
         "145.44",
         "145.21",
         "145.21",
         "666"
        ],
        [
         "2022-10-06",
         "2022-10-06 04:00:00",
         "147.31",
         "147.31",
         "146.39",
         "146.39",
         "2160"
        ],
        [
         "2022-10-07",
         "2022-10-07 04:00:00",
         "144.83",
         "144.83",
         "144.75",
         "144.79",
         "478"
        ],
        [
         "2022-10-10",
         "2022-10-10 04:00:00",
         "139.95",
         "139.95",
         "139.5",
         "139.5",
         "1266"
        ],
        [
         "2022-10-11",
         "2022-10-11 04:00:00",
         "139.69",
         "139.71",
         "139.34",
         "139.71",
         "1082"
        ],
        [
         "2022-10-12",
         "2022-10-12 04:00:00",
         "140.22",
         "140.22",
         "139.9",
         "140.1",
         "2167"
        ],
        [
         "2022-10-13",
         "2022-10-13 04:00:00",
         "138.8",
         "138.8",
         "138.58",
         "138.65",
         "834"
        ],
        [
         "2022-10-14",
         "2022-10-14 04:00:00",
         "143.0",
         "143.3",
         "143.0",
         "143.05",
         "4695"
        ],
        [
         "2022-10-17",
         "2022-10-17 04:00:00",
         "142.99",
         "142.99",
         "139.58",
         "140.04",
         "4744"
        ],
        [
         "2022-10-18",
         "2022-10-18 04:00:00",
         "144.21",
         "145.25",
         "144.02",
         "145.21",
         "5249"
        ],
        [
         "2022-10-19",
         "2022-10-19 04:00:00",
         "144.06",
         "144.15",
         "143.4",
         "143.47",
         "5842"
        ],
        [
         "2022-10-20",
         "2022-10-20 04:00:00",
         "142.49",
         "142.49",
         "142.2",
         "142.3",
         "5249"
        ],
        [
         "2022-10-21",
         "2022-10-21 04:00:00",
         "142.79",
         "142.79",
         "142.4",
         "142.44",
         "701"
        ],
        [
         "2022-10-24",
         "2022-10-24 04:00:00",
         "147.9",
         "147.9",
         "146.81",
         "147.15",
         "4442"
        ],
        [
         "2022-10-25",
         "2022-10-25 04:00:00",
         "149.5",
         "150.0",
         "149.5",
         "149.85",
         "2028"
        ],
        [
         "2022-10-26",
         "2022-10-26 04:00:00",
         "151.06",
         "151.6",
         "151.06",
         "151.6",
         "3939"
        ],
        [
         "2022-10-27",
         "2022-10-27 04:00:00",
         "148.94",
         "149.05",
         "148.71",
         "149.0",
         "2449"
        ],
        [
         "2022-10-28",
         "2022-10-28 04:00:00",
         "143.69",
         "145.09",
         "143.69",
         "145.09",
         "4485"
        ],
        [
         "2022-10-31",
         "2022-10-31 04:00:00",
         "155.0",
         "155.66",
         "154.54",
         "154.8",
         "7683"
        ],
        [
         "2022-11-01",
         "2022-11-01 04:00:00",
         "153.59",
         "154.36",
         "153.04",
         "153.99",
         "614"
        ],
        [
         "2022-11-02",
         "2022-11-02 04:00:00",
         "150.72",
         "150.72",
         "150.41",
         "150.6",
         "1783"
        ],
        [
         "2022-11-03",
         "2022-11-03 04:00:00",
         "144.92",
         "144.92",
         "144.77",
         "144.85",
         "987"
        ],
        [
         "2022-11-04",
         "2022-11-04 04:00:00",
         "138.01",
         "138.74",
         "138.01",
         "138.5",
         "4248"
        ],
        [
         "2022-11-07",
         "2022-11-07 04:00:00",
         "138.0",
         "138.23",
         "135.0",
         "137.56",
         "3652"
        ],
        [
         "2022-11-08",
         "2022-11-08 04:00:00",
         "139.04",
         "139.04",
         "138.84",
         "138.84",
         "1008"
        ],
        [
         "2022-11-09",
         "2022-11-09 04:00:00",
         "140.05",
         "140.05",
         "139.76",
         "139.76",
         "560"
        ],
        [
         "2022-11-10",
         "2022-11-10 04:00:00",
         "134.87",
         "135.8",
         "134.87",
         "135.45",
         "4191"
        ],
        [
         "2022-11-11",
         "2022-11-11 04:00:00",
         "148.06",
         "148.74",
         "147.86",
         "148.51",
         "9352"
        ],
        [
         "2022-11-14",
         "2022-11-14 04:00:00",
         "149.24",
         "149.24",
         "148.9",
         "148.9",
         "2105"
        ],
        [
         "2022-11-15",
         "2022-11-15 04:00:00",
         "149.51",
         "149.98",
         "149.51",
         "149.81",
         "2020"
        ],
        [
         "2022-11-16",
         "2022-11-16 04:00:00",
         "150.25",
         "150.28",
         "149.75",
         "150.01",
         "11821"
        ],
        [
         "2022-11-17",
         "2022-11-17 04:00:00",
         "148.98",
         "149.26",
         "148.98",
         "149.15",
         "1856"
        ],
        [
         "2022-11-18",
         "2022-11-18 04:00:00",
         "150.17",
         "150.69",
         "150.17",
         "150.5",
         "2711"
        ],
        [
         "2022-11-21",
         "2022-11-21 04:00:00",
         "150.1",
         "150.65",
         "150.1",
         "150.65",
         "1163"
        ],
        [
         "2022-11-22",
         "2022-11-22 04:00:00",
         "147.91",
         "147.91",
         "147.67",
         "147.79",
         "1472"
        ],
        [
         "2022-11-23",
         "2022-11-23 04:00:00",
         "149.75",
         "149.92",
         "149.68",
         "149.92",
         "6449"
        ],
        [
         "2022-11-25",
         "2022-11-25 04:00:00",
         "151.16",
         "151.16",
         "150.56",
         "150.76",
         "3705"
        ],
        [
         "2022-11-28",
         "2022-11-28 04:00:00",
         "147.05",
         "147.64",
         "146.35",
         "146.38",
         "6348"
        ],
        [
         "2022-11-29",
         "2022-11-29 04:00:00",
         "145.04",
         "145.55",
         "145.04",
         "145.48",
         "3938"
        ],
        [
         "2022-11-30",
         "2022-11-30 04:00:00",
         "143.5",
         "143.82",
         "141.5",
         "141.73",
         "4698"
        ],
        [
         "2022-12-01",
         "2022-12-01 04:00:00",
         "148.08",
         "148.08",
         "147.28",
         "147.73",
         "2068"
        ],
        [
         "2022-12-02",
         "2022-12-02 04:00:00",
         "148.49",
         "148.49",
         "147.95",
         "148.15",
         "793"
        ],
        [
         "2022-12-05",
         "2022-12-05 04:00:00",
         "148.0",
         "148.0",
         "147.66",
         "147.66",
         "598"
        ],
        [
         "2022-12-06",
         "2022-12-06 04:00:00",
         "147.05",
         "147.05",
         "146.91",
         "146.96",
         "1245"
        ],
        [
         "2022-12-07",
         "2022-12-07 04:00:00",
         "142.41",
         "142.59",
         "141.95",
         "141.99",
         "3816"
        ],
        [
         "2022-12-08",
         "2022-12-08 04:00:00",
         "141.46",
         "141.46",
         "141.02",
         "141.02",
         "343"
        ],
        [
         "2022-12-09",
         "2022-12-09 04:00:00",
         "143.69",
         "143.69",
         "143.22",
         "143.29",
         "1797"
        ]
       ],
       "shape": {
        "columns": 6,
        "rows": 251
       }
      },
      "text/html": [
       "<div>\n",
       "<style scoped>\n",
       "    .dataframe tbody tr th:only-of-type {\n",
       "        vertical-align: middle;\n",
       "    }\n",
       "\n",
       "    .dataframe tbody tr th {\n",
       "        vertical-align: top;\n",
       "    }\n",
       "\n",
       "    .dataframe thead th {\n",
       "        text-align: right;\n",
       "    }\n",
       "</style>\n",
       "<table border=\"1\" class=\"dataframe\">\n",
       "  <thead>\n",
       "    <tr style=\"text-align: right;\">\n",
       "      <th></th>\n",
       "      <th>timestamp</th>\n",
       "      <th>open</th>\n",
       "      <th>high</th>\n",
       "      <th>low</th>\n",
       "      <th>close</th>\n",
       "      <th>volume</th>\n",
       "    </tr>\n",
       "    <tr>\n",
       "      <th>date</th>\n",
       "      <th></th>\n",
       "      <th></th>\n",
       "      <th></th>\n",
       "      <th></th>\n",
       "      <th></th>\n",
       "      <th></th>\n",
       "    </tr>\n",
       "  </thead>\n",
       "  <tbody>\n",
       "    <tr>\n",
       "      <th>2022-09-30</th>\n",
       "      <td>2022-09-30 04:00:00</td>\n",
       "      <td>143.59</td>\n",
       "      <td>143.59</td>\n",
       "      <td>143.10</td>\n",
       "      <td>143.49</td>\n",
       "      <td>4060</td>\n",
       "    </tr>\n",
       "    <tr>\n",
       "      <th>2022-10-03</th>\n",
       "      <td>2022-10-03 04:01:00</td>\n",
       "      <td>137.21</td>\n",
       "      <td>137.21</td>\n",
       "      <td>137.10</td>\n",
       "      <td>137.10</td>\n",
       "      <td>2585</td>\n",
       "    </tr>\n",
       "    <tr>\n",
       "      <th>2022-10-04</th>\n",
       "      <td>2022-10-04 04:00:00</td>\n",
       "      <td>144.02</td>\n",
       "      <td>145.27</td>\n",
       "      <td>144.02</td>\n",
       "      <td>144.71</td>\n",
       "      <td>4179</td>\n",
       "    </tr>\n",
       "    <tr>\n",
       "      <th>2022-10-05</th>\n",
       "      <td>2022-10-05 04:00:00</td>\n",
       "      <td>145.44</td>\n",
       "      <td>145.44</td>\n",
       "      <td>145.21</td>\n",
       "      <td>145.21</td>\n",
       "      <td>666</td>\n",
       "    </tr>\n",
       "    <tr>\n",
       "      <th>2022-10-06</th>\n",
       "      <td>2022-10-06 04:00:00</td>\n",
       "      <td>147.31</td>\n",
       "      <td>147.31</td>\n",
       "      <td>146.39</td>\n",
       "      <td>146.39</td>\n",
       "      <td>2160</td>\n",
       "    </tr>\n",
       "    <tr>\n",
       "      <th>...</th>\n",
       "      <td>...</td>\n",
       "      <td>...</td>\n",
       "      <td>...</td>\n",
       "      <td>...</td>\n",
       "      <td>...</td>\n",
       "      <td>...</td>\n",
       "    </tr>\n",
       "    <tr>\n",
       "      <th>2023-09-25</th>\n",
       "      <td>2023-09-25 04:00:00</td>\n",
       "      <td>175.58</td>\n",
       "      <td>175.58</td>\n",
       "      <td>175.29</td>\n",
       "      <td>175.50</td>\n",
       "      <td>1671</td>\n",
       "    </tr>\n",
       "    <tr>\n",
       "      <th>2023-09-26</th>\n",
       "      <td>2023-09-26 04:00:00</td>\n",
       "      <td>175.19</td>\n",
       "      <td>175.20</td>\n",
       "      <td>175.14</td>\n",
       "      <td>175.20</td>\n",
       "      <td>2682</td>\n",
       "    </tr>\n",
       "    <tr>\n",
       "      <th>2023-09-27</th>\n",
       "      <td>2023-09-27 04:00:00</td>\n",
       "      <td>172.71</td>\n",
       "      <td>173.32</td>\n",
       "      <td>172.50</td>\n",
       "      <td>173.23</td>\n",
       "      <td>3766</td>\n",
       "    </tr>\n",
       "    <tr>\n",
       "      <th>2023-09-28</th>\n",
       "      <td>2023-09-28 04:00:00</td>\n",
       "      <td>170.20</td>\n",
       "      <td>170.20</td>\n",
       "      <td>170.20</td>\n",
       "      <td>170.20</td>\n",
       "      <td>223</td>\n",
       "    </tr>\n",
       "    <tr>\n",
       "      <th>2023-09-29</th>\n",
       "      <td>2023-09-29 04:00:00</td>\n",
       "      <td>171.28</td>\n",
       "      <td>172.03</td>\n",
       "      <td>171.28</td>\n",
       "      <td>172.03</td>\n",
       "      <td>441</td>\n",
       "    </tr>\n",
       "  </tbody>\n",
       "</table>\n",
       "<p>251 rows × 6 columns</p>\n",
       "</div>"
      ],
      "text/plain": [
       "                      timestamp    open    high     low   close  volume\n",
       "date                                                                   \n",
       "2022-09-30  2022-09-30 04:00:00  143.59  143.59  143.10  143.49    4060\n",
       "2022-10-03  2022-10-03 04:01:00  137.21  137.21  137.10  137.10    2585\n",
       "2022-10-04  2022-10-04 04:00:00  144.02  145.27  144.02  144.71    4179\n",
       "2022-10-05  2022-10-05 04:00:00  145.44  145.44  145.21  145.21     666\n",
       "2022-10-06  2022-10-06 04:00:00  147.31  147.31  146.39  146.39    2160\n",
       "...                         ...     ...     ...     ...     ...     ...\n",
       "2023-09-25  2023-09-25 04:00:00  175.58  175.58  175.29  175.50    1671\n",
       "2023-09-26  2023-09-26 04:00:00  175.19  175.20  175.14  175.20    2682\n",
       "2023-09-27  2023-09-27 04:00:00  172.71  173.32  172.50  173.23    3766\n",
       "2023-09-28  2023-09-28 04:00:00  170.20  170.20  170.20  170.20     223\n",
       "2023-09-29  2023-09-29 04:00:00  171.28  172.03  171.28  172.03     441\n",
       "\n",
       "[251 rows x 6 columns]"
      ]
     },
     "execution_count": 8,
     "metadata": {},
     "output_type": "execute_result"
    }
   ],
   "source": [
    "import pandas as pd\n",
    "\n",
    "intraDayDf = pd.read_csv(\"/Users/sagewong/git/DayTrader/IntradayStockData/AAPL_1min_firstratedata.csv\")\n",
    "\n",
    "intraDayDf[\"date\"] = pd.to_datetime(intraDayDf[\"timestamp\"]).dt.date\n",
    "\n",
    "dayDf = intraDayDf.groupby(\"date\").first()\n",
    "dayDf"
   ]
  },
  {
   "cell_type": "code",
   "execution_count": 37,
   "metadata": {},
   "outputs": [
    {
     "name": "stderr",
     "output_type": "stream",
     "text": [
      "/var/folders/c6/2nhk07gx4s7b8xks2kwjq2vc0000gn/T/ipykernel_14399/1227428904.py:50: FutureWarning: The behavior of DataFrame concatenation with empty or all-NA entries is deprecated. In a future version, this will no longer exclude empty or all-NA columns when determining the result dtypes. To retain the old behavior, exclude the relevant entries before the concat operation.\n",
      "  profitCount = pd.concat([profitCount, new_row])\n"
     ]
    },
    {
     "name": "stdout",
     "output_type": "stream",
     "text": [
      "final investment value after day trading: 1080.8828454728377\n",
      "final investment value after holding: 1288.7941498252283\n"
     ]
    },
    {
     "data": {
      "text/plain": [
       "<matplotlib.legend.Legend at 0x15ebe4b90>"
      ]
     },
     "execution_count": 37,
     "metadata": {},
     "output_type": "execute_result"
    },
    {
     "data": {
      "image/png": "[encoded data removed]",
      "text/plain": [
       "<Figure size 640x480 with 1 Axes>"
      ]
     },
     "metadata": {},
     "output_type": "display_data"
    }
   ],
   "source": [
    "# tests for specific days\n",
    "import matplotlib.pyplot as plt\n",
    "import numpy as np\n",
    "\n",
    "profitCount = pd.DataFrame(columns=[\"start_index\", \"end_index\", \"percent_change\"])\n",
    "\n",
    "investment = 1000\n",
    "minuteToBuy = 0\n",
    "minuteToSell = 400\n",
    "\n",
    "firstValue = dayDf[\"open\"].iloc[0].item()\n",
    "shares = investment / firstValue\n",
    "\n",
    "dates = np.array([])\n",
    "investmentValue = np.array([])\n",
    "openValues = np.array([])\n",
    "\n",
    "def calculateHoldingGains(df, investment):\n",
    "    startPrice = df.iloc[0][\"open\"].item()\n",
    "    endPrice = df.iloc[df.shape[0]-1][\"open\"].item()\n",
    "    percentChange = (endPrice-startPrice)/startPrice\n",
    "\n",
    "    investment *= percentChange + 1\n",
    "    return investment\n",
    "\n",
    "for day in range(dayDf[\"timestamp\"].shape[0]):\n",
    "    dayStartIndex = intraDayDf[intraDayDf[\"timestamp\"] == dayDf[\"timestamp\"].iloc[day]].index\n",
    "    try:\n",
    "        dayEndIndex = intraDayDf[intraDayDf[\"timestamp\"] == dayDf[\"timestamp\"].iloc[day + 1]].index - 1\n",
    "    except:\n",
    "        dayEndIndex = dayDf[\"timestamp\"].shape[0]\n",
    "    \n",
    "    openValue = intraDayDf.iloc[dayStartIndex][\"open\"].item()\n",
    "\n",
    "    sellPrice = intraDayDf.iloc[dayStartIndex + minuteToSell][\"open\"].item()\n",
    "    buyPrice = intraDayDf.iloc[dayStartIndex + minuteToBuy][\"open\"].item()\n",
    "    percentChange = (sellPrice - buyPrice) / buyPrice\n",
    "    investment *= percentChange + 1\n",
    "\n",
    "    new_row = pd.DataFrame([{\n",
    "    \"start_index\": dayStartIndex + minuteToBuy,\n",
    "    \"end_index\": dayStartIndex + minuteToSell,\n",
    "    \"percent_change\": percentChange\n",
    "}])\n",
    "    \n",
    "    dates = np.append(dates, day)\n",
    "    investmentValue = np.append(investmentValue, investment)\n",
    "    openValues = np.append(openValues, openValue)\n",
    "\n",
    "    profitCount = pd.concat([profitCount, new_row])\n",
    "print(\"final investment value after day trading: \" + str(investment))\n",
    "print(\"final investment value after holding: \" + str(calculateHoldingGains(intraDayDf, investment)))\n",
    "\n",
    "plt.plot(dates, investmentValue, label=\"dayTrading\")\n",
    "plt.plot(dates, openValues * shares, label=\"holding\")\n",
    "\n",
    "plt.legend()\n"
   ]
  },
  {
   "cell_type": "code",
   "execution_count": null,
   "metadata": {},
   "outputs": [],
   "source": []
  }
 ],
 "metadata": {
  "kernelspec": {
   "display_name": ".venv",
   "language": "python",
   "name": "python3"
  },
  "language_info": {
   "codemirror_mode": {
    "name": "ipython",
    "version": 3
   },
   "file_extension": ".py",
   "mimetype": "text/x-python",
   "name": "python",
   "nbconvert_exporter": "python",
   "pygments_lexer": "ipython3",
   "version": "3.13.1"
  }
 },
 "nbformat": 4,
 "nbformat_minor": 2
}
